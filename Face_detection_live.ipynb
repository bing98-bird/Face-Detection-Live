{
 "cells": [
  {
   "cell_type": "code",
   "execution_count": 7,
   "id": "a88ba8f4-8846-43ed-9ed0-66d2686a53f1",
   "metadata": {},
   "outputs": [],
   "source": [
    "import cv2\n",
    "import numpy as np\n",
    "import matplotlib.pyplot as plt\n",
    "%matplotlib inline"
   ]
  },
  {
   "cell_type": "code",
   "execution_count": 8,
   "id": "73a77e71-81e1-49ff-a3aa-2f54ff204689",
   "metadata": {},
   "outputs": [],
   "source": [
    "face_cascade = cv2.CascadeClassifier(\"C:\\\\Users\\\\laukeewei\\\\Desktop\\\\Self learn\\\\CV\\\\CV with python, OpenCV, Deep Learning\\\\Computer-Vision-with-Python\\\\Computer-Vision-with-Python\\\\DATA\\\\haarcascades\\\\haarcascade_frontalface_default.xml\")"
   ]
  },
  {
   "cell_type": "code",
   "execution_count": 9,
   "id": "52571299-8fd1-4a2c-8d8a-5fb796890c2f",
   "metadata": {},
   "outputs": [],
   "source": [
    "def detect_face(img):\n",
    "\n",
    "  face_img = img.copy()\n",
    "\n",
    "  face_rects = face_cascade.detectMultiScale(face_img)\n",
    "\n",
    "  for (x,y,w,h) in face_rects:\n",
    "    cv2.rectangle(face_img,(x,y),(x+w,y+h),(255,255,255),10)\n",
    "\n",
    "  return face_img"
   ]
  },
  {
   "cell_type": "code",
   "execution_count": 10,
   "id": "36ce41f8-037e-4e83-95a7-073666400142",
   "metadata": {},
   "outputs": [],
   "source": [
    "cap = cv2.VideoCapture(0)\n",
    "\n",
    "while True:\n",
    "\n",
    "    ret,frame = cap.read(0)\n",
    "\n",
    "    frame = detect_face(frame)\n",
    "\n",
    "    cv2.imshow('Video Face Detection',frame)\n",
    "\n",
    "    k = cv2.waitKey(1)\n",
    "    if k == 27:\n",
    "        break\n",
    "\n",
    "cap.release()\n",
    "cv2.destroyAllWindows()"
   ]
  },
  {
   "cell_type": "code",
   "execution_count": 11,
   "id": "3d7a3f50-6b42-440d-813e-f385b8602f16",
   "metadata": {},
   "outputs": [],
   "source": [
    "def adj_detect_face(img):\n",
    "\n",
    "  face_img = img.copy()\n",
    "\n",
    "  face_rects = face_cascade.detectMultiScale(face_img,scaleFactor=1.3,minNeighbors=5)\n",
    "\n",
    "  for (x,y,w,h) in face_rects:\n",
    "    cv2.rectangle(face_img,(x,y),(x+w,y+h),(255,255,255),10)\n",
    "\n",
    "  return face_img"
   ]
  },
  {
   "cell_type": "code",
   "execution_count": 12,
   "id": "80e1f7bf-f1a3-43f7-8385-b7e464f45fa5",
   "metadata": {},
   "outputs": [],
   "source": [
    "cap = cv2.VideoCapture(0)\n",
    "\n",
    "while True:\n",
    "\n",
    "    ret,frame = cap.read(0)\n",
    "\n",
    "    frame = adj_detect_face(frame)\n",
    "\n",
    "    cv2.imshow('Video Face Detection',frame)\n",
    "\n",
    "    k = cv2.waitKey(1)\n",
    "    if k == 27:\n",
    "        break\n",
    "\n",
    "cap.release()\n",
    "cv2.destroyAllWindows()"
   ]
  },
  {
   "cell_type": "code",
   "execution_count": null,
   "id": "c8933c20-5232-4e27-b622-03af945df1ba",
   "metadata": {},
   "outputs": [],
   "source": []
  }
 ],
 "metadata": {
  "kernelspec": {
   "display_name": "Python 3 (ipykernel)",
   "language": "python",
   "name": "python3"
  },
  "language_info": {
   "codemirror_mode": {
    "name": "ipython",
    "version": 3
   },
   "file_extension": ".py",
   "mimetype": "text/x-python",
   "name": "python",
   "nbconvert_exporter": "python",
   "pygments_lexer": "ipython3",
   "version": "3.12.7"
  }
 },
 "nbformat": 4,
 "nbformat_minor": 5
}
